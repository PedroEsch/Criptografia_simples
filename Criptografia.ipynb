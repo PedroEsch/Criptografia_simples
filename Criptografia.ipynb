{
  "nbformat": 4,
  "nbformat_minor": 0,
  "metadata": {
    "colab": {
      "provenance": [],
      "include_colab_link": true
    },
    "kernelspec": {
      "name": "python3",
      "display_name": "Python 3"
    }
  },
  "cells": [
    {
      "cell_type": "markdown",
      "metadata": {
        "id": "view-in-github",
        "colab_type": "text"
      },
      "source": [
        "<a href=\"https://colab.research.google.com/github/PedroEsch/Criptografia_simples/blob/main/Criptografia.ipynb\" target=\"_parent\"><img src=\"https://colab.research.google.com/assets/colab-badge.svg\" alt=\"Open In Colab\"/></a>"
      ]
    },
    {
      "cell_type": "code",
      "metadata": {
        "id": "2Lrwxf-oo_Yl",
        "cellView": "both",
        "colab": {
          "base_uri": "https://localhost:8080/"
        },
        "outputId": "b7c34c1b-218f-4798-98f2-4ae3e5fd9ed1"
      },
      "source": [
        "import numpy as np\n",
        "\n",
        "A = np.array([[1, -2, 2],[-1, 1, 3],[1, -1, -4]])\n",
        "\n",
        "InversaA = np.linalg.inv(A)\n",
        "\n",
        "InvA = [[0,0,0],[0,0,0],[0,0,0]]\n",
        "for i in range(3):                      # para cada linha de A\n",
        "  for j in range(3):                    # para cada coluna de A\n",
        "    InvA[i][j] = int(InversaA[i][j])\n",
        "\n",
        "print(\"Use c para codificar e d para decodificar.\")\n",
        "ordem = input()\n",
        "print()\n",
        "\n",
        "numerodaordem = ord(ordem) - 96\n",
        "\n",
        "if int(numerodaordem)==3:\n",
        "\n",
        "  print(\"Entre com a mensagem que deseja codificar.\")\n",
        "  mensagem = input()\n",
        "  print()\n",
        "\n",
        "  sequencia = []                        # lista vazia\n",
        "  for elemento in mensagem:             # para cada elemento do texto\n",
        "    if elemento == \" \":                 # se o elemento é o espaço\n",
        "      numero = 0                        # numero é 0\n",
        "    else:                               # senão: a, b, c,...\n",
        "      numero = ord(elemento) - 96       # conversão   Tabela ASCII\n",
        "    sequencia.append(numero)            # incluo o numero na lista numerica\n",
        "\n",
        "  matriz = []                           # vazia\n",
        "  for i in range(0,len(sequencia),3):\n",
        "    matriz.append(sequencia[i:i+3])\n",
        "\n",
        "  while len(matriz[len(matriz)-1]) != len(A):\n",
        "    matriz[len(matriz)-1] = matriz[len(matriz)-1] + [0]\n",
        "\n",
        "  matrizcod = np.matmul(matriz,A)\n",
        "\n",
        "  print(\"Seu codigo é: \")\n",
        "\n",
        "  for linha in matrizcod:\n",
        "    for elem in linha:\n",
        "        print(elem, end=' ')\n",
        "\n",
        "elif int(numerodaordem)==4:\n",
        "\n",
        "  print(\"Digite o codigo para decodifica-lo.\")\n",
        "  codigo = input()\n",
        "  print()\n",
        "\n",
        "  codigo = codigo.split()\n",
        "  for i in range(len(codigo)):\n",
        "    codigo[i] = int(codigo[i])\n",
        "\n",
        "  matriz = []                           # vazia\n",
        "  for i in range(0,len(codigo),3):\n",
        "    matriz.append(codigo[i:i+3])\n",
        "\n",
        "  matrizdec = np.matmul(matriz,InvA)\n",
        "\n",
        "  listagem = []\n",
        "  for i in range(len(matrizdec)):       # para cada linha de A\n",
        "    for j in range(3):                  # para cada coluna de A\n",
        "      listagem.append(matrizdec[i][j])  # eu adiciono à lista, elemento a elemento\n",
        "\n",
        "  texto = []                            # lista vazia\n",
        "  for elemento in listagem:             # para cada elemento da sequencia\n",
        "      if elemento == 0:                 # se o elemento for 0\n",
        "        caracter = \" \"                  # espaço\n",
        "      else:                             # senão\n",
        "        caracter = chr(elemento + 96)   # conversão  Tabela ASCII\n",
        "      texto.append(caracter)            # incluo o caracter no texto\n",
        "\n",
        "  textofinal = \"\".join(texto)           # texto único\n",
        "\n",
        "  print(\"Sua mensagem é:\")\n",
        "  print(textofinal)\n",
        "\n",
        "else:\n",
        "\n",
        "  print(\"Você deve usar ou c ou d!\")\n",
        "\n",
        "\n"
      ],
      "execution_count": null,
      "outputs": [
        {
          "output_type": "stream",
          "name": "stdout",
          "text": [
            "Use c para codificar e d para decodificar.\n",
            "d\n",
            "\n",
            "Digite o codigo para decodifica-lo.\n",
            "100 -83 -514 -37 89 -164 4 -4 -33 10 -15 -10 128 -147 -418 2 -2 -9 21 -29 -37 -11 7 53 -11 7 53 -26 37 54 -33 66 -66 \n",
            "\n",
            "Sua mensagem é:\n",
            "Olá, o que está achando do UPA?  \n"
          ]
        }
      ]
    }
  ]
}